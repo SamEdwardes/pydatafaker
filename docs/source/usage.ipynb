{
 "metadata": {
  "language_info": {
   "codemirror_mode": {
    "name": "ipython",
    "version": 3
   },
   "file_extension": ".py",
   "mimetype": "text/x-python",
   "name": "python",
   "nbconvert_exporter": "python",
   "pygments_lexer": "ipython3",
   "version": "3.7.6-final"
  },
  "orig_nbformat": 2,
  "kernelspec": {
   "name": "python3",
   "display_name": "Python 3"
  }
 },
 "nbformat": 4,
 "nbformat_minor": 2,
 "cells": [
  {
   "source": [
    "# Usage\n",
    "\n",
    "## Installation\n",
    "\n",
    "To Install please run:\n",
    "\n",
    "```bash\n",
    "pip intsall pydatafaker\n",
    "```\n",
    "\n",
    "## Business\n",
    "\n",
    "The business module allows you to create fake business data. Calling `business.create_business()` will return a dictionary of related tables."
   ],
   "cell_type": "markdown",
   "metadata": {}
  },
  {
   "cell_type": "code",
   "execution_count": 1,
   "metadata": {},
   "outputs": [
    {
     "output_type": "execute_result",
     "data": {
      "text/plain": [
       "dict_keys(['vendor_table', 'po_table', 'invoice_summary_table', 'invoice_line_item_table', 'employee_table', 'contract_table', 'rate_sheet_table', 'timesheet_table'])"
      ]
     },
     "metadata": {},
     "execution_count": 1
    }
   ],
   "source": [
    "import pandas as pd\n",
    "from pydatafaker import business\n",
    "biz =  business.create_business()\n",
    "biz.keys()"
   ]
  },
  {
   "source": [
    "Each value inside the dictionary contains a Pandas DataFrame."
   ],
   "cell_type": "markdown",
   "metadata": {}
  },
  {
   "cell_type": "code",
   "execution_count": 2,
   "metadata": {},
   "outputs": [
    {
     "output_type": "execute_result",
     "data": {
      "text/plain": [
       "     invoice_id      invoice_line_id  amount    description\n",
       "0     inv_00001  line_item_000000001    6598  0-904840-74-3\n",
       "1     inv_00001  line_item_000001231    4735  1-71069-753-9\n",
       "2     inv_00001  line_item_000005049    6727  1-371-64644-9\n",
       "3     inv_00001  line_item_000000588    2473  0-08-230956-6\n",
       "4     inv_00001  line_item_000003851    9597  1-75384-893-8\n",
       "...         ...                  ...     ...            ...\n",
       "5445  inv_00450  line_item_000001717      87  1-59771-017-2\n",
       "5446  inv_00450  line_item_000003672   10283  0-624-27726-7\n",
       "5447  inv_00450  line_item_000001655    4475  0-508-52762-7\n",
       "5448  inv_00450  line_item_000000969    9020  1-80594-970-5\n",
       "5449  inv_00450  line_item_000004549     193  0-629-73969-2\n",
       "\n",
       "[5450 rows x 4 columns]"
      ],
      "text/html": "<div>\n<style scoped>\n    .dataframe tbody tr th:only-of-type {\n        vertical-align: middle;\n    }\n\n    .dataframe tbody tr th {\n        vertical-align: top;\n    }\n\n    .dataframe thead th {\n        text-align: right;\n    }\n</style>\n<table border=\"1\" class=\"dataframe\">\n  <thead>\n    <tr style=\"text-align: right;\">\n      <th></th>\n      <th>invoice_id</th>\n      <th>invoice_line_id</th>\n      <th>amount</th>\n      <th>description</th>\n    </tr>\n  </thead>\n  <tbody>\n    <tr>\n      <th>0</th>\n      <td>inv_00001</td>\n      <td>line_item_000000001</td>\n      <td>6598</td>\n      <td>0-904840-74-3</td>\n    </tr>\n    <tr>\n      <th>1</th>\n      <td>inv_00001</td>\n      <td>line_item_000001231</td>\n      <td>4735</td>\n      <td>1-71069-753-9</td>\n    </tr>\n    <tr>\n      <th>2</th>\n      <td>inv_00001</td>\n      <td>line_item_000005049</td>\n      <td>6727</td>\n      <td>1-371-64644-9</td>\n    </tr>\n    <tr>\n      <th>3</th>\n      <td>inv_00001</td>\n      <td>line_item_000000588</td>\n      <td>2473</td>\n      <td>0-08-230956-6</td>\n    </tr>\n    <tr>\n      <th>4</th>\n      <td>inv_00001</td>\n      <td>line_item_000003851</td>\n      <td>9597</td>\n      <td>1-75384-893-8</td>\n    </tr>\n    <tr>\n      <th>...</th>\n      <td>...</td>\n      <td>...</td>\n      <td>...</td>\n      <td>...</td>\n    </tr>\n    <tr>\n      <th>5445</th>\n      <td>inv_00450</td>\n      <td>line_item_000001717</td>\n      <td>87</td>\n      <td>1-59771-017-2</td>\n    </tr>\n    <tr>\n      <th>5446</th>\n      <td>inv_00450</td>\n      <td>line_item_000003672</td>\n      <td>10283</td>\n      <td>0-624-27726-7</td>\n    </tr>\n    <tr>\n      <th>5447</th>\n      <td>inv_00450</td>\n      <td>line_item_000001655</td>\n      <td>4475</td>\n      <td>0-508-52762-7</td>\n    </tr>\n    <tr>\n      <th>5448</th>\n      <td>inv_00450</td>\n      <td>line_item_000000969</td>\n      <td>9020</td>\n      <td>1-80594-970-5</td>\n    </tr>\n    <tr>\n      <th>5449</th>\n      <td>inv_00450</td>\n      <td>line_item_000004549</td>\n      <td>193</td>\n      <td>0-629-73969-2</td>\n    </tr>\n  </tbody>\n</table>\n<p>5450 rows × 4 columns</p>\n</div>"
     },
     "metadata": {},
     "execution_count": 2
    }
   ],
   "source": [
    "biz[\"vendor_table\"]\n",
    "biz[\"employee_table\"]\n",
    "biz[\"po_table\"]\n",
    "biz[\"invoice_summary_table\"]\n",
    "biz[\"invoice_line_item_table\"]"
   ]
  },
  {
   "source": [
    "Tables can be joined together to add additional details."
   ],
   "cell_type": "markdown",
   "metadata": {}
  },
  {
   "cell_type": "code",
   "execution_count": 3,
   "metadata": {},
   "outputs": [
    {
     "output_type": "execute_result",
     "data": {
      "text/plain": [
       "    invoice_id  amount invoice_date     po_id     vendor_id  \\\n",
       "0    inv_00001   82661   2015-07-21  po_00001  vendor_00001   \n",
       "1    inv_00002   73098   2013-07-23  po_00002  vendor_00002   \n",
       "2    inv_00003   28022   2018-07-17  po_00003  vendor_00003   \n",
       "3    inv_00004   69594   2004-06-29  po_00004  vendor_00004   \n",
       "4    inv_00005   39000   2009-09-18  po_00005  vendor_00005   \n",
       "..         ...     ...          ...       ...           ...   \n",
       "445  inv_00446   68535   2020-08-26  po_00108  vendor_00099   \n",
       "446  inv_00447   63278   2002-09-16  po_00051  vendor_00051   \n",
       "447  inv_00448  117217   2008-09-03  po_00066  vendor_00066   \n",
       "448  inv_00449  112512   2017-06-15  po_00027  vendor_00027   \n",
       "449  inv_00450   46839   2001-02-03  po_00151  vendor_00075   \n",
       "\n",
       "                          vendor_name  \\\n",
       "0                        Moore-Martin   \n",
       "1              West, Berry and Walton   \n",
       "2      Davidson, Cameron and Martinez   \n",
       "3                           Jones LLC   \n",
       "4                         Mendoza Inc   \n",
       "..                                ...   \n",
       "445                        Fowler PLC   \n",
       "446                    Blevins-Wilson   \n",
       "447  Sullivan, Bennett and Cunningham   \n",
       "448                         Adams Inc   \n",
       "449        Trujillo, Yu and Gallagher   \n",
       "\n",
       "                               vendor_description  \\\n",
       "0                 Up-sized multi-state definition   \n",
       "1                         Reduced hybrid forecast   \n",
       "2               Fully-configurable impactful core   \n",
       "3            Decentralized web-enabled monitoring   \n",
       "4                 Organized explicit productivity   \n",
       "..                                            ...   \n",
       "445      Multi-tiered transitional data-warehouse   \n",
       "446  Enterprise-wide bandwidth-monitored strategy   \n",
       "447               Exclusive asynchronous function   \n",
       "448            Extended mission-critical leverage   \n",
       "449           Optional encompassing collaboration   \n",
       "\n",
       "                                               address                  phone  \\\n",
       "0    7429 Olsen Ferry Apt. 189\\nPort Jennifer, NC 1...             7193112102   \n",
       "1    16527 Samantha Island Suite 869\\nOmarfurt, PA ...     781.604.8595x04998   \n",
       "2              08777 Sheri Mews\\nHarrisville, LA 58473      105.005.3036x7127   \n",
       "3    5033 Rodriguez Estates Apt. 699\\nEast Michael,...      764.448.3011x8486   \n",
       "4    441 Miller Lodge Apt. 162\\nPort William, VT 10705           233.325.5774   \n",
       "..                                                 ...                    ...   \n",
       "445  980 Mooney Points Apt. 348\\nMichelechester, CO...          (894)476-7567   \n",
       "446                          USNV Taylor\\nFPO AP 12826     388.964.4315x98382   \n",
       "447           79589 Nicholas Row\\nPort Jerry, MS 63079     (053)564-5707x5118   \n",
       "448  5651 Goodman Falls Apt. 237\\nNew Jamietown, OH...   +1-576-099-8444x7619   \n",
       "449  47761 Walters Forges\\nEast Kristinshire, SD 62645  001-547-442-2195x2390   \n",
       "\n",
       "                           email  \n",
       "0     robinsoncheryl@example.net  \n",
       "1            jimmy31@example.com  \n",
       "2         odavenport@example.com  \n",
       "3    carlosrobertson@example.org  \n",
       "4             psmith@example.org  \n",
       "..                           ...  \n",
       "445            kim40@example.org  \n",
       "446  jenniferjohnson@example.com  \n",
       "447   patriciamurphy@example.com  \n",
       "448          cmurphy@example.com  \n",
       "449          jamie05@example.net  \n",
       "\n",
       "[450 rows x 10 columns]"
      ],
      "text/html": "<div>\n<style scoped>\n    .dataframe tbody tr th:only-of-type {\n        vertical-align: middle;\n    }\n\n    .dataframe tbody tr th {\n        vertical-align: top;\n    }\n\n    .dataframe thead th {\n        text-align: right;\n    }\n</style>\n<table border=\"1\" class=\"dataframe\">\n  <thead>\n    <tr style=\"text-align: right;\">\n      <th></th>\n      <th>invoice_id</th>\n      <th>amount</th>\n      <th>invoice_date</th>\n      <th>po_id</th>\n      <th>vendor_id</th>\n      <th>vendor_name</th>\n      <th>vendor_description</th>\n      <th>address</th>\n      <th>phone</th>\n      <th>email</th>\n    </tr>\n  </thead>\n  <tbody>\n    <tr>\n      <th>0</th>\n      <td>inv_00001</td>\n      <td>82661</td>\n      <td>2015-07-21</td>\n      <td>po_00001</td>\n      <td>vendor_00001</td>\n      <td>Moore-Martin</td>\n      <td>Up-sized multi-state definition</td>\n      <td>7429 Olsen Ferry Apt. 189\\nPort Jennifer, NC 1...</td>\n      <td>7193112102</td>\n      <td>robinsoncheryl@example.net</td>\n    </tr>\n    <tr>\n      <th>1</th>\n      <td>inv_00002</td>\n      <td>73098</td>\n      <td>2013-07-23</td>\n      <td>po_00002</td>\n      <td>vendor_00002</td>\n      <td>West, Berry and Walton</td>\n      <td>Reduced hybrid forecast</td>\n      <td>16527 Samantha Island Suite 869\\nOmarfurt, PA ...</td>\n      <td>781.604.8595x04998</td>\n      <td>jimmy31@example.com</td>\n    </tr>\n    <tr>\n      <th>2</th>\n      <td>inv_00003</td>\n      <td>28022</td>\n      <td>2018-07-17</td>\n      <td>po_00003</td>\n      <td>vendor_00003</td>\n      <td>Davidson, Cameron and Martinez</td>\n      <td>Fully-configurable impactful core</td>\n      <td>08777 Sheri Mews\\nHarrisville, LA 58473</td>\n      <td>105.005.3036x7127</td>\n      <td>odavenport@example.com</td>\n    </tr>\n    <tr>\n      <th>3</th>\n      <td>inv_00004</td>\n      <td>69594</td>\n      <td>2004-06-29</td>\n      <td>po_00004</td>\n      <td>vendor_00004</td>\n      <td>Jones LLC</td>\n      <td>Decentralized web-enabled monitoring</td>\n      <td>5033 Rodriguez Estates Apt. 699\\nEast Michael,...</td>\n      <td>764.448.3011x8486</td>\n      <td>carlosrobertson@example.org</td>\n    </tr>\n    <tr>\n      <th>4</th>\n      <td>inv_00005</td>\n      <td>39000</td>\n      <td>2009-09-18</td>\n      <td>po_00005</td>\n      <td>vendor_00005</td>\n      <td>Mendoza Inc</td>\n      <td>Organized explicit productivity</td>\n      <td>441 Miller Lodge Apt. 162\\nPort William, VT 10705</td>\n      <td>233.325.5774</td>\n      <td>psmith@example.org</td>\n    </tr>\n    <tr>\n      <th>...</th>\n      <td>...</td>\n      <td>...</td>\n      <td>...</td>\n      <td>...</td>\n      <td>...</td>\n      <td>...</td>\n      <td>...</td>\n      <td>...</td>\n      <td>...</td>\n      <td>...</td>\n    </tr>\n    <tr>\n      <th>445</th>\n      <td>inv_00446</td>\n      <td>68535</td>\n      <td>2020-08-26</td>\n      <td>po_00108</td>\n      <td>vendor_00099</td>\n      <td>Fowler PLC</td>\n      <td>Multi-tiered transitional data-warehouse</td>\n      <td>980 Mooney Points Apt. 348\\nMichelechester, CO...</td>\n      <td>(894)476-7567</td>\n      <td>kim40@example.org</td>\n    </tr>\n    <tr>\n      <th>446</th>\n      <td>inv_00447</td>\n      <td>63278</td>\n      <td>2002-09-16</td>\n      <td>po_00051</td>\n      <td>vendor_00051</td>\n      <td>Blevins-Wilson</td>\n      <td>Enterprise-wide bandwidth-monitored strategy</td>\n      <td>USNV Taylor\\nFPO AP 12826</td>\n      <td>388.964.4315x98382</td>\n      <td>jenniferjohnson@example.com</td>\n    </tr>\n    <tr>\n      <th>447</th>\n      <td>inv_00448</td>\n      <td>117217</td>\n      <td>2008-09-03</td>\n      <td>po_00066</td>\n      <td>vendor_00066</td>\n      <td>Sullivan, Bennett and Cunningham</td>\n      <td>Exclusive asynchronous function</td>\n      <td>79589 Nicholas Row\\nPort Jerry, MS 63079</td>\n      <td>(053)564-5707x5118</td>\n      <td>patriciamurphy@example.com</td>\n    </tr>\n    <tr>\n      <th>448</th>\n      <td>inv_00449</td>\n      <td>112512</td>\n      <td>2017-06-15</td>\n      <td>po_00027</td>\n      <td>vendor_00027</td>\n      <td>Adams Inc</td>\n      <td>Extended mission-critical leverage</td>\n      <td>5651 Goodman Falls Apt. 237\\nNew Jamietown, OH...</td>\n      <td>+1-576-099-8444x7619</td>\n      <td>cmurphy@example.com</td>\n    </tr>\n    <tr>\n      <th>449</th>\n      <td>inv_00450</td>\n      <td>46839</td>\n      <td>2001-02-03</td>\n      <td>po_00151</td>\n      <td>vendor_00075</td>\n      <td>Trujillo, Yu and Gallagher</td>\n      <td>Optional encompassing collaboration</td>\n      <td>47761 Walters Forges\\nEast Kristinshire, SD 62645</td>\n      <td>001-547-442-2195x2390</td>\n      <td>jamie05@example.net</td>\n    </tr>\n  </tbody>\n</table>\n<p>450 rows × 10 columns</p>\n</div>"
     },
     "metadata": {},
     "execution_count": 3
    }
   ],
   "source": [
    "invoice_summary = biz['invoice_summary_table']\n",
    "vendors = biz['vendor_table']\n",
    "\n",
    "pd.merge(invoice_summary, vendors, how='left', on='vendor_id')"
   ]
  },
  {
   "source": [
    "## School\n",
    "\n",
    "The school module allows you to generate fake school data"
   ],
   "cell_type": "markdown",
   "metadata": {}
  },
  {
   "cell_type": "code",
   "execution_count": 4,
   "metadata": {},
   "outputs": [
    {
     "output_type": "execute_result",
     "data": {
      "text/plain": [
       "        student_id  test_score       date\n",
       "0     student_0003    0.839085 2021-01-01\n",
       "1     student_0003    0.849378 2020-12-26\n",
       "2     student_0003    0.573154 2021-01-22\n",
       "3     student_0003    1.000000 2021-05-14\n",
       "4     student_0003    1.000000 2020-09-05\n",
       "...            ...         ...        ...\n",
       "2995  student_0283    0.834525 2020-12-15\n",
       "2996  student_0283    0.706741 2020-12-07\n",
       "2997  student_0283    0.747107 2021-05-16\n",
       "2998  student_0283    0.812523 2021-02-22\n",
       "2999  student_0283    0.542470 2021-01-22\n",
       "\n",
       "[3000 rows x 3 columns]"
      ],
      "text/html": "<div>\n<style scoped>\n    .dataframe tbody tr th:only-of-type {\n        vertical-align: middle;\n    }\n\n    .dataframe tbody tr th {\n        vertical-align: top;\n    }\n\n    .dataframe thead th {\n        text-align: right;\n    }\n</style>\n<table border=\"1\" class=\"dataframe\">\n  <thead>\n    <tr style=\"text-align: right;\">\n      <th></th>\n      <th>student_id</th>\n      <th>test_score</th>\n      <th>date</th>\n    </tr>\n  </thead>\n  <tbody>\n    <tr>\n      <th>0</th>\n      <td>student_0003</td>\n      <td>0.839085</td>\n      <td>2021-01-01</td>\n    </tr>\n    <tr>\n      <th>1</th>\n      <td>student_0003</td>\n      <td>0.849378</td>\n      <td>2020-12-26</td>\n    </tr>\n    <tr>\n      <th>2</th>\n      <td>student_0003</td>\n      <td>0.573154</td>\n      <td>2021-01-22</td>\n    </tr>\n    <tr>\n      <th>3</th>\n      <td>student_0003</td>\n      <td>1.000000</td>\n      <td>2021-05-14</td>\n    </tr>\n    <tr>\n      <th>4</th>\n      <td>student_0003</td>\n      <td>1.000000</td>\n      <td>2020-09-05</td>\n    </tr>\n    <tr>\n      <th>...</th>\n      <td>...</td>\n      <td>...</td>\n      <td>...</td>\n    </tr>\n    <tr>\n      <th>2995</th>\n      <td>student_0283</td>\n      <td>0.834525</td>\n      <td>2020-12-15</td>\n    </tr>\n    <tr>\n      <th>2996</th>\n      <td>student_0283</td>\n      <td>0.706741</td>\n      <td>2020-12-07</td>\n    </tr>\n    <tr>\n      <th>2997</th>\n      <td>student_0283</td>\n      <td>0.747107</td>\n      <td>2021-05-16</td>\n    </tr>\n    <tr>\n      <th>2998</th>\n      <td>student_0283</td>\n      <td>0.812523</td>\n      <td>2021-02-22</td>\n    </tr>\n    <tr>\n      <th>2999</th>\n      <td>student_0283</td>\n      <td>0.542470</td>\n      <td>2021-01-22</td>\n    </tr>\n  </tbody>\n</table>\n<p>3000 rows × 3 columns</p>\n</div>"
     },
     "metadata": {},
     "execution_count": 4
    }
   ],
   "source": [
    "import pandas as pd\n",
    "from pydatafaker import school\n",
    "skool =  school.create_school()\n",
    "skool.keys()\n",
    "skool['student_table']\n",
    "skool['teacher_table']\n",
    "skool['room_table']\n",
    "skool['grade_table']"
   ]
  }
 ]
}