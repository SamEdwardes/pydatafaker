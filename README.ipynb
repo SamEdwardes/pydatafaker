{
 "metadata": {
  "language_info": {
   "codemirror_mode": {
    "name": "ipython",
    "version": 3
   },
   "file_extension": ".py",
   "mimetype": "text/x-python",
   "name": "python",
   "nbconvert_exporter": "python",
   "pygments_lexer": "ipython3",
   "version": "3.7.6-final"
  },
  "orig_nbformat": 2,
  "kernelspec": {
   "name": "python3",
   "display_name": "Python 3"
  }
 },
 "nbformat": 4,
 "nbformat_minor": 2,
 "cells": [
  {
   "source": [
    "![logo](https://raw.githubusercontent.com/SamEdwardes/pydatafaker/master/docs/source/_static/logo_with_grey_text.png)\n",
    "\n",
    "![test_with_pytest](https://github.com/SamEdwardes/pydatafaker/workflows/test_with_pytest/badge.svg)\n",
    "[![Documentation Status](https://readthedocs.org/projects/pydatafaker/badge/?version=latest)](https://pydatafaker.readthedocs.io/en/latest/?badge=latest)\n",
    "\n",
    "PyDataFaker is a python package to create fake data with relationships between tables. Creating fake data can be useful for many different applications such as creating product demos or testing software. \n",
    "\n",
    "Python already has a great package for creating fake data called Faker [https://faker.readthedocs.io/en/master/](https://faker.readthedocs.io/en/master/). Faker is great for creating individual fake units of data, but it can be time consuming to create more complicated fake data that is actually related to one another.\n",
    "\n",
    "Imagine you are developing a new enterprise resource planning (ERP) software to challenge SAP. You may need to create some fake data to test your application. You will need an invoice table, a vendor listing, purchase order table, and more. PyDataFaker allows your to quickly create these tables and generates relationships between them!\n",
    "\n",
    "PyDataFaker is currently under development. At this time it is possible to create the following entities:\n",
    "\n",
    "- **Business**: create a fake business with common ERP like tables\n",
    "- **School**: create a fake school\n",
    "\n",
    "More entities are currently being developed. If you  have any ideas of additional entities that should be included please submit an issue here: [https://github.com/SamEdwardes/pydatafaker/issues](https://github.com/SamEdwardes/pydatafaker/issues).\n",
    "\n",
    "## Table of contents\n",
    "\n",
    "- [Installation](#installation)\n",
    "- [Documentation](#documentation)\n",
    "- [Usage](#usage)\n",
    "- [Contributing](#contributing)\n",
    "- [Credits](#credits)\n",
    "\n",
    "## Installation\n",
    "\n",
    "```bash\n",
    "pip install pydatafaker\n",
    "```\n",
    "\n",
    "## Documentation\n",
    "\n",
    "Documentation can be found at [https://pydatafaker.readthedocs.io/en/latest/index.html](https://pydatafaker.readthedocs.io/en/latest/index.html). The package is distributed through PyPi at [https://pypi.org/project/pydatafaker/](https://pypi.org/project/pydatafaker/)\n",
    "\n",
    "## Usage\n",
    "\n",
    "### Business\n",
    "\n",
    "The business module allows you to create fake business data. Calling `business.create_business()` will return a dictionary of related tables."
   ],
   "cell_type": "markdown",
   "metadata": {}
  },
  {
   "cell_type": "code",
   "execution_count": 1,
   "metadata": {},
   "outputs": [
    {
     "output_type": "execute_result",
     "data": {
      "text/plain": [
       "dict_keys(['vendor_table', 'po_table', 'invoice_summary_table', 'invoice_line_item_table', 'employee_table', 'contract_table', 'rate_sheet_table', 'timesheet_table'])"
      ]
     },
     "metadata": {},
     "execution_count": 1
    }
   ],
   "source": [
    "import pandas as pd\n",
    "from pydatafaker import business\n",
    "biz =  business.create_business()\n",
    "biz.keys()"
   ]
  },
  {
   "source": [
    "Each value inside the dictionary contains a Pandas DataFrame."
   ],
   "cell_type": "markdown",
   "metadata": {}
  },
  {
   "cell_type": "code",
   "execution_count": 2,
   "metadata": {},
   "outputs": [
    {
     "output_type": "execute_result",
     "data": {
      "text/plain": [
       "    invoice_id  amount invoice_date     po_id     vendor_id\n",
       "0    inv_00001   56430   2016-11-14  po_00001  vendor_00001\n",
       "1    inv_00002   87163   2000-09-15  po_00002  vendor_00002\n",
       "2    inv_00003  100763   2010-07-12  po_00003  vendor_00003\n",
       "3    inv_00004   58546   2007-10-12  po_00004  vendor_00004\n",
       "4    inv_00005   76600   2012-10-28  po_00005  vendor_00005\n",
       "..         ...     ...          ...       ...           ...\n",
       "445  inv_00446  100520   2007-08-05  po_00099  vendor_00099\n",
       "446  inv_00447   97792   2016-02-20  po_00071  vendor_00071\n",
       "447  inv_00448   46952   2006-11-09  po_00015  vendor_00015\n",
       "448  inv_00449   50536   2017-05-30  po_00099  vendor_00099\n",
       "449  inv_00450   57482   2010-09-28  po_00185  vendor_00049\n",
       "\n",
       "[450 rows x 5 columns]"
      ],
      "text/html": "<div>\n<style scoped>\n    .dataframe tbody tr th:only-of-type {\n        vertical-align: middle;\n    }\n\n    .dataframe tbody tr th {\n        vertical-align: top;\n    }\n\n    .dataframe thead th {\n        text-align: right;\n    }\n</style>\n<table border=\"1\" class=\"dataframe\">\n  <thead>\n    <tr style=\"text-align: right;\">\n      <th></th>\n      <th>invoice_id</th>\n      <th>amount</th>\n      <th>invoice_date</th>\n      <th>po_id</th>\n      <th>vendor_id</th>\n    </tr>\n  </thead>\n  <tbody>\n    <tr>\n      <th>0</th>\n      <td>inv_00001</td>\n      <td>56430</td>\n      <td>2016-11-14</td>\n      <td>po_00001</td>\n      <td>vendor_00001</td>\n    </tr>\n    <tr>\n      <th>1</th>\n      <td>inv_00002</td>\n      <td>87163</td>\n      <td>2000-09-15</td>\n      <td>po_00002</td>\n      <td>vendor_00002</td>\n    </tr>\n    <tr>\n      <th>2</th>\n      <td>inv_00003</td>\n      <td>100763</td>\n      <td>2010-07-12</td>\n      <td>po_00003</td>\n      <td>vendor_00003</td>\n    </tr>\n    <tr>\n      <th>3</th>\n      <td>inv_00004</td>\n      <td>58546</td>\n      <td>2007-10-12</td>\n      <td>po_00004</td>\n      <td>vendor_00004</td>\n    </tr>\n    <tr>\n      <th>4</th>\n      <td>inv_00005</td>\n      <td>76600</td>\n      <td>2012-10-28</td>\n      <td>po_00005</td>\n      <td>vendor_00005</td>\n    </tr>\n    <tr>\n      <th>...</th>\n      <td>...</td>\n      <td>...</td>\n      <td>...</td>\n      <td>...</td>\n      <td>...</td>\n    </tr>\n    <tr>\n      <th>445</th>\n      <td>inv_00446</td>\n      <td>100520</td>\n      <td>2007-08-05</td>\n      <td>po_00099</td>\n      <td>vendor_00099</td>\n    </tr>\n    <tr>\n      <th>446</th>\n      <td>inv_00447</td>\n      <td>97792</td>\n      <td>2016-02-20</td>\n      <td>po_00071</td>\n      <td>vendor_00071</td>\n    </tr>\n    <tr>\n      <th>447</th>\n      <td>inv_00448</td>\n      <td>46952</td>\n      <td>2006-11-09</td>\n      <td>po_00015</td>\n      <td>vendor_00015</td>\n    </tr>\n    <tr>\n      <th>448</th>\n      <td>inv_00449</td>\n      <td>50536</td>\n      <td>2017-05-30</td>\n      <td>po_00099</td>\n      <td>vendor_00099</td>\n    </tr>\n    <tr>\n      <th>449</th>\n      <td>inv_00450</td>\n      <td>57482</td>\n      <td>2010-09-28</td>\n      <td>po_00185</td>\n      <td>vendor_00049</td>\n    </tr>\n  </tbody>\n</table>\n<p>450 rows × 5 columns</p>\n</div>"
     },
     "metadata": {},
     "execution_count": 2
    }
   ],
   "source": [
    "biz['invoice_summary_table']"
   ]
  },
  {
   "source": [
    "Tables can be joined together to add additional details."
   ],
   "cell_type": "markdown",
   "metadata": {}
  },
  {
   "cell_type": "code",
   "execution_count": 3,
   "metadata": {},
   "outputs": [
    {
     "output_type": "execute_result",
     "data": {
      "text/plain": [
       "    invoice_id  amount invoice_date     po_id     vendor_id  \\\n",
       "0    inv_00001   56430   2016-11-14  po_00001  vendor_00001   \n",
       "1    inv_00002   87163   2000-09-15  po_00002  vendor_00002   \n",
       "2    inv_00003  100763   2010-07-12  po_00003  vendor_00003   \n",
       "3    inv_00004   58546   2007-10-12  po_00004  vendor_00004   \n",
       "4    inv_00005   76600   2012-10-28  po_00005  vendor_00005   \n",
       "..         ...     ...          ...       ...           ...   \n",
       "445  inv_00446  100520   2007-08-05  po_00099  vendor_00099   \n",
       "446  inv_00447   97792   2016-02-20  po_00071  vendor_00071   \n",
       "447  inv_00448   46952   2006-11-09  po_00015  vendor_00015   \n",
       "448  inv_00449   50536   2017-05-30  po_00099  vendor_00099   \n",
       "449  inv_00450   57482   2010-09-28  po_00185  vendor_00049   \n",
       "\n",
       "                     vendor_name                           vendor_description  \\\n",
       "0               Parker-Hernandez            Synergistic full-range middleware   \n",
       "1                       King PLC              Inverse content-based emulation   \n",
       "2                    Andrews Ltd       Enterprise-wide heuristic service-desk   \n",
       "3                       Cook LLC               De-engineered multimedia frame   \n",
       "4                     May-Molina             Expanded intermediate time-frame   \n",
       "..                           ...                                          ...   \n",
       "445                 Williams PLC     Cross-group solution-oriented task-force   \n",
       "446                Hill and Sons  Reactive bifurcated artificial intelligence   \n",
       "447   Campos, Rivera and Schmidt                     Intuitive stable success   \n",
       "448                 Williams PLC     Cross-group solution-oriented task-force   \n",
       "449  Robertson, Jones and Larson  Team-oriented solution-oriented flexibility   \n",
       "\n",
       "                                               address  \\\n",
       "0                          USCGC Kennedy\\nFPO AE 45867   \n",
       "1        64354 Beck Parks Apt. 147\\nNew Mary, CO 05360   \n",
       "2      413 David Lock Suite 480\\nRobertburgh, VT 55531   \n",
       "3       660 James Circle Apt. 771\\nKarlafort, NE 18641   \n",
       "4     36514 Davis Glens Apt. 955\\nMillerberg, DC 72749   \n",
       "..                                                 ...   \n",
       "445                   Unit 2108 Box 3829\\nDPO AP 63313   \n",
       "446  965 Robert Port Suite 197\\nNew Ericshire, SD 2...   \n",
       "447  71312 Simpson Port Apt. 285\\nLake Christopher,...   \n",
       "448                   Unit 2108 Box 3829\\nDPO AP 63313   \n",
       "449          009 Cruz Stravenue\\nCollinstown, OH 57804   \n",
       "\n",
       "                      phone                       email  \n",
       "0              225-393-0867  michellebarber@example.net  \n",
       "1              611.068.6837         kconley@example.net  \n",
       "2          912-987-8642x259       jackson34@example.org  \n",
       "3    001-641-799-6571x09024        shelly09@example.com  \n",
       "4      +1-998-390-3555x1606     wrightblake@example.com  \n",
       "..                      ...                         ...  \n",
       "445        591-538-8695x584         isaac32@example.com  \n",
       "446      705.159.7358x74313           bgill@example.org  \n",
       "447         +1-804-367-5816     lyonsyvonne@example.org  \n",
       "448        591-538-8695x584         isaac32@example.com  \n",
       "449   001-159-181-5139x7308      kimberly03@example.net  \n",
       "\n",
       "[450 rows x 10 columns]"
      ],
      "text/html": "<div>\n<style scoped>\n    .dataframe tbody tr th:only-of-type {\n        vertical-align: middle;\n    }\n\n    .dataframe tbody tr th {\n        vertical-align: top;\n    }\n\n    .dataframe thead th {\n        text-align: right;\n    }\n</style>\n<table border=\"1\" class=\"dataframe\">\n  <thead>\n    <tr style=\"text-align: right;\">\n      <th></th>\n      <th>invoice_id</th>\n      <th>amount</th>\n      <th>invoice_date</th>\n      <th>po_id</th>\n      <th>vendor_id</th>\n      <th>vendor_name</th>\n      <th>vendor_description</th>\n      <th>address</th>\n      <th>phone</th>\n      <th>email</th>\n    </tr>\n  </thead>\n  <tbody>\n    <tr>\n      <th>0</th>\n      <td>inv_00001</td>\n      <td>56430</td>\n      <td>2016-11-14</td>\n      <td>po_00001</td>\n      <td>vendor_00001</td>\n      <td>Parker-Hernandez</td>\n      <td>Synergistic full-range middleware</td>\n      <td>USCGC Kennedy\\nFPO AE 45867</td>\n      <td>225-393-0867</td>\n      <td>michellebarber@example.net</td>\n    </tr>\n    <tr>\n      <th>1</th>\n      <td>inv_00002</td>\n      <td>87163</td>\n      <td>2000-09-15</td>\n      <td>po_00002</td>\n      <td>vendor_00002</td>\n      <td>King PLC</td>\n      <td>Inverse content-based emulation</td>\n      <td>64354 Beck Parks Apt. 147\\nNew Mary, CO 05360</td>\n      <td>611.068.6837</td>\n      <td>kconley@example.net</td>\n    </tr>\n    <tr>\n      <th>2</th>\n      <td>inv_00003</td>\n      <td>100763</td>\n      <td>2010-07-12</td>\n      <td>po_00003</td>\n      <td>vendor_00003</td>\n      <td>Andrews Ltd</td>\n      <td>Enterprise-wide heuristic service-desk</td>\n      <td>413 David Lock Suite 480\\nRobertburgh, VT 55531</td>\n      <td>912-987-8642x259</td>\n      <td>jackson34@example.org</td>\n    </tr>\n    <tr>\n      <th>3</th>\n      <td>inv_00004</td>\n      <td>58546</td>\n      <td>2007-10-12</td>\n      <td>po_00004</td>\n      <td>vendor_00004</td>\n      <td>Cook LLC</td>\n      <td>De-engineered multimedia frame</td>\n      <td>660 James Circle Apt. 771\\nKarlafort, NE 18641</td>\n      <td>001-641-799-6571x09024</td>\n      <td>shelly09@example.com</td>\n    </tr>\n    <tr>\n      <th>4</th>\n      <td>inv_00005</td>\n      <td>76600</td>\n      <td>2012-10-28</td>\n      <td>po_00005</td>\n      <td>vendor_00005</td>\n      <td>May-Molina</td>\n      <td>Expanded intermediate time-frame</td>\n      <td>36514 Davis Glens Apt. 955\\nMillerberg, DC 72749</td>\n      <td>+1-998-390-3555x1606</td>\n      <td>wrightblake@example.com</td>\n    </tr>\n    <tr>\n      <th>...</th>\n      <td>...</td>\n      <td>...</td>\n      <td>...</td>\n      <td>...</td>\n      <td>...</td>\n      <td>...</td>\n      <td>...</td>\n      <td>...</td>\n      <td>...</td>\n      <td>...</td>\n    </tr>\n    <tr>\n      <th>445</th>\n      <td>inv_00446</td>\n      <td>100520</td>\n      <td>2007-08-05</td>\n      <td>po_00099</td>\n      <td>vendor_00099</td>\n      <td>Williams PLC</td>\n      <td>Cross-group solution-oriented task-force</td>\n      <td>Unit 2108 Box 3829\\nDPO AP 63313</td>\n      <td>591-538-8695x584</td>\n      <td>isaac32@example.com</td>\n    </tr>\n    <tr>\n      <th>446</th>\n      <td>inv_00447</td>\n      <td>97792</td>\n      <td>2016-02-20</td>\n      <td>po_00071</td>\n      <td>vendor_00071</td>\n      <td>Hill and Sons</td>\n      <td>Reactive bifurcated artificial intelligence</td>\n      <td>965 Robert Port Suite 197\\nNew Ericshire, SD 2...</td>\n      <td>705.159.7358x74313</td>\n      <td>bgill@example.org</td>\n    </tr>\n    <tr>\n      <th>447</th>\n      <td>inv_00448</td>\n      <td>46952</td>\n      <td>2006-11-09</td>\n      <td>po_00015</td>\n      <td>vendor_00015</td>\n      <td>Campos, Rivera and Schmidt</td>\n      <td>Intuitive stable success</td>\n      <td>71312 Simpson Port Apt. 285\\nLake Christopher,...</td>\n      <td>+1-804-367-5816</td>\n      <td>lyonsyvonne@example.org</td>\n    </tr>\n    <tr>\n      <th>448</th>\n      <td>inv_00449</td>\n      <td>50536</td>\n      <td>2017-05-30</td>\n      <td>po_00099</td>\n      <td>vendor_00099</td>\n      <td>Williams PLC</td>\n      <td>Cross-group solution-oriented task-force</td>\n      <td>Unit 2108 Box 3829\\nDPO AP 63313</td>\n      <td>591-538-8695x584</td>\n      <td>isaac32@example.com</td>\n    </tr>\n    <tr>\n      <th>449</th>\n      <td>inv_00450</td>\n      <td>57482</td>\n      <td>2010-09-28</td>\n      <td>po_00185</td>\n      <td>vendor_00049</td>\n      <td>Robertson, Jones and Larson</td>\n      <td>Team-oriented solution-oriented flexibility</td>\n      <td>009 Cruz Stravenue\\nCollinstown, OH 57804</td>\n      <td>001-159-181-5139x7308</td>\n      <td>kimberly03@example.net</td>\n    </tr>\n  </tbody>\n</table>\n<p>450 rows × 10 columns</p>\n</div>"
     },
     "metadata": {},
     "execution_count": 3
    }
   ],
   "source": [
    "invoice_summary = biz['invoice_summary_table']\n",
    "vendors = biz['vendor_table']\n",
    "pd.merge(invoice_summary, vendors, how='left', on='vendor_id')"
   ]
  },
  {
   "source": [
    "### School"
   ],
   "cell_type": "markdown",
   "metadata": {}
  },
  {
   "cell_type": "code",
   "execution_count": 4,
   "metadata": {},
   "outputs": [
    {
     "output_type": "execute_result",
     "data": {
      "text/plain": [
       "      student_id            name  grade    teacher_id\n",
       "0   student_0005     Daniel Bird      1  teacher_0006\n",
       "1   student_0007  Angelica Reyes      1  teacher_0008\n",
       "2   student_0009       James Liu      1  teacher_0006\n",
       "3   student_0012      Julie Sims      1  teacher_0008\n",
       "4   student_0017   Joseph Harvey      1  teacher_0006\n",
       "..           ...             ...    ...           ...\n",
       "50  student_0270      Laura Cruz      7  teacher_0013\n",
       "51  student_0285  Patricia Jones      7  teacher_0003\n",
       "52  student_0290   Thomas Thomas      7  teacher_0004\n",
       "53  student_0294   Donna Spencer      7  teacher_0013\n",
       "54  student_0298    Steven Haley      7  teacher_0003\n",
       "\n",
       "[300 rows x 4 columns]"
      ],
      "text/html": "<div>\n<style scoped>\n    .dataframe tbody tr th:only-of-type {\n        vertical-align: middle;\n    }\n\n    .dataframe tbody tr th {\n        vertical-align: top;\n    }\n\n    .dataframe thead th {\n        text-align: right;\n    }\n</style>\n<table border=\"1\" class=\"dataframe\">\n  <thead>\n    <tr style=\"text-align: right;\">\n      <th></th>\n      <th>student_id</th>\n      <th>name</th>\n      <th>grade</th>\n      <th>teacher_id</th>\n    </tr>\n  </thead>\n  <tbody>\n    <tr>\n      <th>0</th>\n      <td>student_0005</td>\n      <td>Daniel Bird</td>\n      <td>1</td>\n      <td>teacher_0006</td>\n    </tr>\n    <tr>\n      <th>1</th>\n      <td>student_0007</td>\n      <td>Angelica Reyes</td>\n      <td>1</td>\n      <td>teacher_0008</td>\n    </tr>\n    <tr>\n      <th>2</th>\n      <td>student_0009</td>\n      <td>James Liu</td>\n      <td>1</td>\n      <td>teacher_0006</td>\n    </tr>\n    <tr>\n      <th>3</th>\n      <td>student_0012</td>\n      <td>Julie Sims</td>\n      <td>1</td>\n      <td>teacher_0008</td>\n    </tr>\n    <tr>\n      <th>4</th>\n      <td>student_0017</td>\n      <td>Joseph Harvey</td>\n      <td>1</td>\n      <td>teacher_0006</td>\n    </tr>\n    <tr>\n      <th>...</th>\n      <td>...</td>\n      <td>...</td>\n      <td>...</td>\n      <td>...</td>\n    </tr>\n    <tr>\n      <th>50</th>\n      <td>student_0270</td>\n      <td>Laura Cruz</td>\n      <td>7</td>\n      <td>teacher_0013</td>\n    </tr>\n    <tr>\n      <th>51</th>\n      <td>student_0285</td>\n      <td>Patricia Jones</td>\n      <td>7</td>\n      <td>teacher_0003</td>\n    </tr>\n    <tr>\n      <th>52</th>\n      <td>student_0290</td>\n      <td>Thomas Thomas</td>\n      <td>7</td>\n      <td>teacher_0004</td>\n    </tr>\n    <tr>\n      <th>53</th>\n      <td>student_0294</td>\n      <td>Donna Spencer</td>\n      <td>7</td>\n      <td>teacher_0013</td>\n    </tr>\n    <tr>\n      <th>54</th>\n      <td>student_0298</td>\n      <td>Steven Haley</td>\n      <td>7</td>\n      <td>teacher_0003</td>\n    </tr>\n  </tbody>\n</table>\n<p>300 rows × 4 columns</p>\n</div>"
     },
     "metadata": {},
     "execution_count": 4
    }
   ],
   "source": [
    "import pandas as pd\n",
    "from pydatafaker import school\n",
    "skool =  school.create_school()\n",
    "skool.keys()\n",
    "skool['student_table']"
   ]
  },
  {
   "source": [
    "## Contributing\n",
    "\n",
    "Please see [docs/source/contributing.rst](docs/source/contributing.rst).\n",
    "\n",
    "## Credits\n",
    "\n",
    "Developed by:\n",
    "\n",
    "* Sam Edwardes\n",
    "\n",
    "Logo:\n",
    "\n",
    "* Icon made by [Freepik](https://www.flaticon.com/authors/freepik) from [www.flaticon.com](https://www.flaticon.com/)\n",
    "* Front from [fontmeme.com/retro-fonts/](https://fontmeme.com/retro-fonts/)\n",
    "* Logo generated using [logomakr.com](logomakr.com/7scB4)"
   ],
   "cell_type": "markdown",
   "metadata": {}
  }
 ]
}